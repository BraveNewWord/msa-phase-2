{
 "cells": [
  {
   "cell_type": "markdown",
   "metadata": {},
   "source": [
    "# 2022 NZMSA Data Science Submission."
   ]
  },
  {
   "cell_type": "code",
   "execution_count": 1,
   "metadata": {},
   "outputs": [],
   "source": [
    "import pandas as pd\n",
    "import seaborn as sns\n",
    "import numpy as np\n",
    "\n",
    "import matplotlib.pyplot as plt\n",
    "\n",
    "%matplotlib inline"
   ]
  },
  {
   "cell_type": "markdown",
   "metadata": {},
   "source": [
    "# Exploratory Data Analysis."
   ]
  },
  {
   "cell_type": "markdown",
   "metadata": {},
   "source": [
    "## Numerical"
   ]
  },
  {
   "cell_type": "code",
   "execution_count": null,
   "metadata": {},
   "outputs": [],
   "source": [
    "dataset = pd.read_csv(\"weather-data.csv\")\n",
    "\n",
    "print(\"Average (mean):\")\n",
    "print(dataset[['tmpc', 'dwpc', 'relh', 'sknt', 'gust']].mean())\n",
    "print(\"-\"*20)\n",
    "print(\"Standard deviation:\")\n",
    "print(dataset[['tmpc', 'dwpc', 'relh', 'sknt', 'gust']].std())\n",
    "print(\"-\"*20)\n",
    "print(\"10th and 90th percentile range\")\n",
    "percentiles_10th = dataset[['tmpc', 'dwpc', 'relh', 'sknt', 'gust']].quantile(0.1)\n",
    "percentiles_90th = dataset[['tmpc', 'dwpc', 'relh', 'sknt', 'gust']].quantile(0.9)\n",
    "print(percentiles_90th - percentiles_10th)"
   ]
  },
  {
   "cell_type": "markdown",
   "metadata": {},
   "source": [
    "## Graphical"
   ]
  },
  {
   "cell_type": "code",
   "execution_count": null,
   "metadata": {},
   "outputs": [],
   "source": [
    "# correlation plot\n",
    "corrMatrix = dataset[['tmpc', 'dwpc', 'relh', 'sknt', 'gust']].dropna().corr()\n",
    "sns.heatmap(corrMatrix, annot=True)\n",
    "plt.title(\"Correlation matrix of weather data\")\n",
    "plt.show()\n",
    "\n",
    "# plot all numerical data\n",
    "dataset['valid'] = pd.to_datetime(dataset['valid'], format = '%Y-%m-%d %H:%M:%S', errors = 'coerce') # convert valid dates to datetime objects\n",
    "plt.style.use(\"bmh\")\n",
    "fig, (ax1, ax2, ax3, ax4, ax5) = plt.subplots(nrows=5, ncols=1, squeeze=True)\n",
    "\n",
    "tmpc_data = dataset[['valid','tmpc']].dropna()\n",
    "ax1.plot(tmpc_data[\"valid\"], tmpc_data[\"tmpc\"], color=\"blue\")\n",
    "ax1.set_title(\"Environment Temperature\")\n",
    "ax1.set_xlabel(\"Time\")\n",
    "ax1.set_ylabel(\"Environment Temperature (°C)\")\n",
    "\n",
    "dwpc_data = dataset[['valid','dwpc']].dropna()\n",
    "ax2.plot(dwpc_data[\"valid\"], dwpc_data[\"dwpc\"], color=\"red\")\n",
    "ax2.set_title(\"Dew point Temperature\")\n",
    "ax2.set_xlabel(\"Time\")\n",
    "ax2.set_ylabel(\"Dew point Temperature (°C)\")\n",
    "\n",
    "relh_data = dataset[['valid','relh']].dropna()\n",
    "ax3.plot(relh_data[\"valid\"], relh_data[\"relh\"], color=\"green\")\n",
    "ax3.set_title(\"Relative humidity\")\n",
    "ax3.set_xlabel(\"Time\")\n",
    "ax3.set_ylabel(\"Relative humidity (%)\")\n",
    "\n",
    "sknt_data = dataset[['valid','sknt']].dropna()\n",
    "ax4.plot(sknt_data[\"valid\"], sknt_data[\"sknt\"], color=\"orange\")\n",
    "ax4.set_title(\"Wind speed\")\n",
    "ax4.set_xlabel(\"Time\")\n",
    "ax4.set_ylabel(\"Wind speed (knots)\")\n",
    "\n",
    "gust_data = dataset[['valid','gust']].dropna()\n",
    "ax5.plot(gust_data[\"valid\"], gust_data[\"gust\"], color=\"black\")\n",
    "ax5.set_title(\"Wind gust\")\n",
    "ax5.set_xlabel(\"Time\")\n",
    "ax5.set_ylabel(\"Wind gust (knots)\")\n",
    "\n",
    "fig.set_size_inches(10,25)"
   ]
  },
  {
   "cell_type": "markdown",
   "metadata": {},
   "source": [
    "## Comment on the dataset"
   ]
  },
  {
   "cell_type": "markdown",
   "metadata": {},
   "source": [
    "All the data in the dataset appear to be collected from the same station which is NZAA. The data are collected on the dates ranging from 1/01/2015 0:00 to 30/12/2020 23:30. The the gust measurement column of the dataset is sparsely populated compared to the other measurement columns of tmpc, dwpc, relh and sknt. The peak_wind_drct column appears to have no data present in it so it was ignored in the EDA. For some tmpc and dwpc, there is no available data for some dates."
   ]
  },
  {
   "cell_type": "markdown",
   "metadata": {},
   "source": [
    "# Data Processing"
   ]
  },
  {
   "cell_type": "markdown",
   "metadata": {},
   "source": [
    "## Making changes"
   ]
  },
  {
   "cell_type": "code",
   "execution_count": null,
   "metadata": {},
   "outputs": [],
   "source": [
    "dataset = pd.read_csv(\"weather-data.csv\")\n",
    "print(dataset.head()) # Show the first five results.\n",
    "\n",
    "# remove useless data\n",
    "dataset.drop(columns=[\" station\", \"gust\", \"peak_wind_drct\"], inplace=True)\n",
    "dataset = dataset[['valid', 'tmpc']]\n",
    "dataset.dropna(inplace=True)\n",
    "dataset['series'] = np.arange(1,len(dataset)+1)\n",
    "\n",
    "# convert 'valid' column data type to datetime and extract year and month\n",
    "dataset['valid'] = pd.to_datetime(dataset['valid'], format = '%Y-%m-%d %H:%M:%S', errors = 'coerce')\n",
    "dataset['year'] =   [i.year for i in dataset['valid']]\n",
    "dataset['month'] =   [i.month for i in dataset['valid']]\n",
    "dataset.drop(['valid'], axis=1, inplace=True)\n",
    "dataset"
   ]
  },
  {
   "cell_type": "code",
   "execution_count": null,
   "metadata": {},
   "outputs": [],
   "source": [
    "# split data into train-test set\n",
    "# test data will be all data starting from start of 2020 and training data is all data prior to that\n",
    "train = dataset[dataset['year'] < 2020]\n",
    "test = dataset[dataset['year'] >= 2020]\n",
    "\n",
    "fig, ax=plt.subplots(figsize=(9, 4))\n",
    "train['tmpc'].plot(ax=ax, label='train')\n",
    "test['tmpc'].plot(ax=ax, label='test')\n",
    "plt.legend()\n",
    "plt.xlabel('Time')\n",
    "plt.ylabel('Environment Temperature (°C)')\n",
    "plt.title(\"Train test split\")\n",
    "plt.show()"
   ]
  },
  {
   "cell_type": "markdown",
   "metadata": {},
   "source": [
    "## Reason for changes\n",
    "- ` station` column is removed because they are all from NZAA\n",
    "- `gust` column is removed because there is not sufficient data matching with other data\n",
    "    - only using other data where gust was recorded as well will waste much of the data we have\n",
    "- `peak_wind_drct` column is removed since there is no data in this column\n",
    "- `valid` column converted to datetime format to extract the year and month numerical data\n",
    "    - `valid` was previously in object format which is not compatible with models\n",
    "- The dataset is reduced to the columns `valid` and `tmpc` to be used in the model\n",
    "- `series` column is added for future predictions"
   ]
  },
  {
   "cell_type": "markdown",
   "metadata": {},
   "source": [
    "# Data Modelling"
   ]
  },
  {
   "cell_type": "code",
   "execution_count": null,
   "metadata": {},
   "outputs": [],
   "source": [
    "# Plot\n",
    "# ==============================================================================\n",
    "fig, ax = plt.subplots(figsize=(9, 4))\n",
    "data_train['tmpc'].plot(ax=ax, label='train')\n",
    "data_test['tmpc'].plot(ax=ax, label='test')\n",
    "predictions.plot(ax=ax, label='predictions')\n",
    "plt.legend()\n",
    "plt.show()"
   ]
  },
  {
   "cell_type": "markdown",
   "metadata": {},
   "source": [
    "# Conclusion\n",
    "\n",
    "* Comment on your model performance.\n",
    "* Anything interesting about the data analysis."
   ]
  }
 ],
 "metadata": {
  "kernelspec": {
   "display_name": "Python 3.9.0 64-bit",
   "language": "python",
   "name": "python3"
  },
  "language_info": {
   "codemirror_mode": {
    "name": "ipython",
    "version": 3
   },
   "file_extension": ".py",
   "mimetype": "text/x-python",
   "name": "python",
   "nbconvert_exporter": "python",
   "pygments_lexer": "ipython3",
   "version": "3.9.0"
  },
  "orig_nbformat": 4,
  "vscode": {
   "interpreter": {
    "hash": "de949c7d5457ba0aa5936e61661575419948e26eaf30c0a450fe3c8bee2426d9"
   }
  }
 },
 "nbformat": 4,
 "nbformat_minor": 2
}
